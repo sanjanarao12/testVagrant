{
  "nbformat": 4,
  "nbformat_minor": 0,
  "metadata": {
    "colab": {
      "provenance": []
    },
    "kernelspec": {
      "name": "python3",
      "display_name": "Python 3"
    },
    "language_info": {
      "name": "python"
    }
  },
  "cells": [
    {
      "cell_type": "code",
      "source": [
        "budget=int(input())\n",
        "dict['TOI']=26\n",
        "dict['Hindu']=20.5\n",
        "dict['ET']=34\n",
        "dict['BM']=10.5\n",
        "dict['HT']=18\n",
        "\n",
        "test = list(dict)\n",
        "\n",
        "fin_ls=[]\n",
        "result = [(a, b) for id, a in enumerate(test) for b in test[id + 1: ]]\n",
        "for (a,b) in result:\n",
        "    if dict[a]+dict[b]<budget:\n",
        "        s='{\"'+a+','+b+'\"}'\n",
        "        fin_ls.append(s)\n",
        "\n",
        "for i in fin_ls:\n",
        "  print(i+',',end='')"
      ],
      "metadata": {
        "colab": {
          "base_uri": "https://localhost:8080/"
        },
        "id": "wYW9qdOYT7u4",
        "outputId": "8a914c52-9d91-40f5-9537-6ab7b1d03e56"
      },
      "execution_count": 24,
      "outputs": [
        {
          "output_type": "stream",
          "name": "stdout",
          "text": [
            "40\n",
            "{\"TOI,BM\"},{\"Hindu,BM\"},{\"Hindu,HT\"},{\"BM,HT\"},"
          ]
        }
      ]
    }
  ]
}